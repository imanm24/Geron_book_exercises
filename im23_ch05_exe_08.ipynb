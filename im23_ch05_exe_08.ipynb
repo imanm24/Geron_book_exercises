{
 "cells": [
  {
   "cell_type": "code",
   "execution_count": 15,
   "metadata": {},
   "outputs": [],
   "source": [
    "# Python ≥3.5 is required\n",
    "import sys\n",
    "assert sys.version_info >= (3, 5)\n",
    "# Scikit-Learn ≥0.20 is required\n",
    "import sklearn\n",
    "assert sklearn.__version__ >= \"0.20\"\n",
    "# Common imports\n",
    "import numpy as np\n",
    "import os\n",
    "# to make this notebook's output stable across runs\n",
    "np.random.seed(42)\n",
    "# To plot pretty figures\n",
    "%matplotlib inline\n",
    "import matplotlib as mpl\n",
    "import matplotlib.pyplot as plt\n",
    "mpl.rc('axes', labelsize=14)\n",
    "mpl.rc('xtick', labelsize=12)\n",
    "mpl.rc('ytick', labelsize=12)\n",
    "\n",
    "from sklearn.pipeline import Pipeline\n",
    "from sklearn.preprocessing import StandardScaler\n",
    "from sklearn.svm import LinearSVC\n",
    "from sklearn.model_selection import GridSearchCV\n",
    "from sklearn.model_selection import train_test_split\n",
    "from sklearn.linear_model import SGDClassifier\n",
    "from sklearn import datasets"
   ]
  },
  {
   "cell_type": "code",
   "execution_count": 16,
   "metadata": {},
   "outputs": [],
   "source": [
    "# just from the book's notebook\n",
    "\n",
    "iris = datasets.load_iris()\n",
    "X = iris[\"data\"][:, (2, 3)]  # petal length, petal width\n",
    "y = (iris[\"target\"] == 2).astype(np.float64)  # Iris virginica"
   ]
  },
  {
   "cell_type": "code",
   "execution_count": 17,
   "metadata": {},
   "outputs": [],
   "source": [
    "X_train, X_test, y_train, y_test = train_test_split(X, y, test_size=0.2, random_state=42)"
   ]
  },
  {
   "cell_type": "code",
   "execution_count": 18,
   "metadata": {},
   "outputs": [
    {
     "data": {
      "text/plain": [
       "(0.325, 0.36666666666666664)"
      ]
     },
     "execution_count": 18,
     "metadata": {},
     "output_type": "execute_result"
    }
   ],
   "source": [
    "np.mean(y_train==1), np.mean(y_test==1)"
   ]
  },
  {
   "cell_type": "code",
   "execution_count": 19,
   "metadata": {},
   "outputs": [],
   "source": [
    "scaler = StandardScaler()\n",
    "\n",
    "X_train = scaler.fit_transform(X_train)\n",
    "X_test = scaler.transform(X_test)"
   ]
  },
  {
   "cell_type": "code",
   "execution_count": 40,
   "metadata": {},
   "outputs": [
    {
     "name": "stdout",
     "output_type": "stream",
     "text": [
      "Fitting 5 folds for each of 10 candidates, totalling 50 fits\n",
      "[CV 1/5] END ................C=0.05, loss=hinge;, score=0.917 total time=   0.0s\n",
      "[CV 2/5] END ................C=0.05, loss=hinge;, score=1.000 total time=   0.0s\n",
      "[CV 3/5] END ................C=0.05, loss=hinge;, score=0.833 total time=   0.0s\n",
      "[CV 4/5] END ................C=0.05, loss=hinge;, score=0.958 total time=   0.0s\n",
      "[CV 5/5] END ................C=0.05, loss=hinge;, score=0.958 total time=   0.0s\n",
      "[CV 1/5] END ........C=0.05, loss=squared_hinge;, score=1.000 total time=   0.0s\n",
      "[CV 2/5] END ........C=0.05, loss=squared_hinge;, score=1.000 total time=   0.0s\n",
      "[CV 3/5] END ........C=0.05, loss=squared_hinge;, score=0.833 total time=   0.0s\n",
      "[CV 4/5] END ........C=0.05, loss=squared_hinge;, score=1.000 total time=   0.0s\n",
      "[CV 5/5] END ........C=0.05, loss=squared_hinge;, score=1.000 total time=   0.0s\n",
      "[CV 1/5] END .................C=0.1, loss=hinge;, score=1.000 total time=   0.0s\n",
      "[CV 2/5] END .................C=0.1, loss=hinge;, score=1.000 total time=   0.0s\n",
      "[CV 3/5] END .................C=0.1, loss=hinge;, score=0.875 total time=   0.0s\n",
      "[CV 4/5] END .................C=0.1, loss=hinge;, score=1.000 total time=   0.0s\n",
      "[CV 5/5] END .................C=0.1, loss=hinge;, score=0.958 total time=   0.0s\n",
      "[CV 1/5] END .........C=0.1, loss=squared_hinge;, score=0.958 total time=   0.0s\n",
      "[CV 2/5] END .........C=0.1, loss=squared_hinge;, score=1.000 total time=   0.0s\n",
      "[CV 3/5] END .........C=0.1, loss=squared_hinge;, score=0.792 total time=   0.0s\n",
      "[CV 4/5] END .........C=0.1, loss=squared_hinge;, score=1.000 total time=   0.0s\n",
      "[CV 5/5] END .........C=0.1, loss=squared_hinge;, score=0.958 total time=   0.0s\n",
      "[CV 1/5] END .................C=0.5, loss=hinge;, score=0.958 total time=   0.0s\n",
      "[CV 2/5] END .................C=0.5, loss=hinge;, score=1.000 total time=   0.0s\n",
      "[CV 3/5] END .................C=0.5, loss=hinge;, score=0.792 total time=   0.0s\n",
      "[CV 4/5] END .................C=0.5, loss=hinge;, score=1.000 total time=   0.0s\n",
      "[CV 5/5] END .................C=0.5, loss=hinge;, score=0.958 total time=   0.0s\n",
      "[CV 1/5] END .........C=0.5, loss=squared_hinge;, score=0.958 total time=   0.0s\n",
      "[CV 2/5] END .........C=0.5, loss=squared_hinge;, score=1.000 total time=   0.0s\n",
      "[CV 3/5] END .........C=0.5, loss=squared_hinge;, score=0.792 total time=   0.0s\n",
      "[CV 4/5] END .........C=0.5, loss=squared_hinge;, score=1.000 total time=   0.0s\n",
      "[CV 5/5] END .........C=0.5, loss=squared_hinge;, score=0.958 total time=   0.0s\n",
      "[CV 1/5] END ...................C=1, loss=hinge;, score=0.958 total time=   0.0s\n",
      "[CV 2/5] END ...................C=1, loss=hinge;, score=1.000 total time=   0.0s\n",
      "[CV 3/5] END ...................C=1, loss=hinge;, score=0.792 total time=   0.0s\n",
      "[CV 4/5] END ...................C=1, loss=hinge;, score=1.000 total time=   0.0s\n",
      "[CV 5/5] END ...................C=1, loss=hinge;, score=0.958 total time=   0.0s\n",
      "[CV 1/5] END ...........C=1, loss=squared_hinge;, score=0.958 total time=   0.0s\n",
      "[CV 2/5] END ...........C=1, loss=squared_hinge;, score=1.000 total time=   0.0s\n",
      "[CV 3/5] END ...........C=1, loss=squared_hinge;, score=0.792 total time=   0.0s\n",
      "[CV 4/5] END ...........C=1, loss=squared_hinge;, score=1.000 total time=   0.0s\n",
      "[CV 5/5] END ...........C=1, loss=squared_hinge;, score=0.958 total time=   0.0s\n",
      "[CV 1/5] END ...................C=5, loss=hinge;, score=0.958 total time=   0.0s\n",
      "[CV 2/5] END ...................C=5, loss=hinge;, score=1.000 total time=   0.0s\n",
      "[CV 3/5] END ...................C=5, loss=hinge;, score=0.792 total time=   0.0s\n",
      "[CV 4/5] END ...................C=5, loss=hinge;, score=1.000 total time=   0.0s\n",
      "[CV 5/5] END ...................C=5, loss=hinge;, score=0.958 total time=   0.0s\n",
      "[CV 1/5] END ...........C=5, loss=squared_hinge;, score=0.958 total time=   0.0s\n",
      "[CV 2/5] END ...........C=5, loss=squared_hinge;, score=1.000 total time=   0.0s\n",
      "[CV 3/5] END ...........C=5, loss=squared_hinge;, score=0.792 total time=   0.0s\n",
      "[CV 4/5] END ...........C=5, loss=squared_hinge;, score=1.000 total time=   0.0s\n",
      "[CV 5/5] END ...........C=5, loss=squared_hinge;, score=0.958 total time=   0.0s\n"
     ]
    },
    {
     "data": {
      "text/plain": [
       "GridSearchCV(cv=5, estimator=LinearSVC(max_iter=5000),\n",
       "             param_grid=[{'C': [0.05, 0.1, 0.5, 1, 5],\n",
       "                          'loss': ['hinge', 'squared_hinge']}],\n",
       "             scoring='accuracy', verbose=3)"
      ]
     },
     "execution_count": 40,
     "metadata": {},
     "output_type": "execute_result"
    }
   ],
   "source": [
    "linear_svm_clf =  LinearSVC(max_iter=5000)\n",
    "\n",
    "par_grid_search=[{'loss':['hinge', 'squared_hinge'],  \n",
    "                  'C':[0.05,0.1,0.5,1,5]}]\n",
    "\n",
    "#defining the search function\n",
    "grid_search=GridSearchCV(linear_svm_clf,par_grid_search,cv=5,scoring='accuracy',verbose=3)\n",
    "\n",
    "#perforing the search\n",
    "grid_search.fit(X_train,y_train)"
   ]
  },
  {
   "cell_type": "code",
   "execution_count": 41,
   "metadata": {
    "scrolled": false
   },
   "outputs": [
    {
     "name": "stdout",
     "output_type": "stream",
     "text": [
      "0.9333333333333333 {'C': 0.05, 'loss': 'hinge'}\n",
      "0.9666666666666668 {'C': 0.05, 'loss': 'squared_hinge'}\n",
      "0.9666666666666666 {'C': 0.1, 'loss': 'hinge'}\n",
      "0.9416666666666667 {'C': 0.1, 'loss': 'squared_hinge'}\n",
      "0.9416666666666667 {'C': 0.5, 'loss': 'hinge'}\n",
      "0.9416666666666667 {'C': 0.5, 'loss': 'squared_hinge'}\n",
      "0.9416666666666667 {'C': 1, 'loss': 'hinge'}\n",
      "0.9416666666666667 {'C': 1, 'loss': 'squared_hinge'}\n",
      "0.9416666666666667 {'C': 5, 'loss': 'hinge'}\n",
      "0.9416666666666667 {'C': 5, 'loss': 'squared_hinge'}\n"
     ]
    }
   ],
   "source": [
    "# Let's look at all the performances\n",
    "cv_res=grid_search.cv_results_\n",
    "for acc,params in zip(cv_res[\"mean_test_score\"],cv_res[\"params\"]):\n",
    "    print(acc,params)"
   ]
  },
  {
   "cell_type": "code",
   "execution_count": 42,
   "metadata": {},
   "outputs": [
    {
     "data": {
      "text/plain": [
       "{'C': 0.05, 'loss': 'squared_hinge'}"
      ]
     },
     "execution_count": 42,
     "metadata": {},
     "output_type": "execute_result"
    }
   ],
   "source": [
    "grid_search.best_params_"
   ]
  },
  {
   "cell_type": "code",
   "execution_count": 43,
   "metadata": {},
   "outputs": [
    {
     "data": {
      "text/plain": [
       "1.0"
      ]
     },
     "execution_count": 43,
     "metadata": {},
     "output_type": "execute_result"
    }
   ],
   "source": [
    "final_lin_svm = grid_search.best_estimator_\n",
    "\n",
    "lin_svm_predict = final_lin_svm.predict(X_test)\n",
    "\n",
    "np.mean((lin_svm_predict==y_test))"
   ]
  },
  {
   "cell_type": "markdown",
   "metadata": {},
   "source": [
    "OK, This works very well. Depending on the test size the best model cahnges, but still it gives accuracy 1 on the test set. "
   ]
  },
  {
   "cell_type": "code",
   "execution_count": 44,
   "metadata": {},
   "outputs": [],
   "source": [
    "w_lin_svm = final_lin_svm.coef_[0]\n",
    "b_lin_svm = final_lin_svm.intercept_[0]\n",
    "\n",
    "x0_min_plt = min(np.concatenate((X_train[:,0], X_test[:,0]), axis=0))\n",
    "x0_max_plt = max(np.concatenate((X_train[:,0], X_test[:,0]), axis=0))\n",
    "x0_linspace = np.linspace(x0_min_plt,x0_max_plt,10**3)\n",
    "\n",
    "# w0 * x0 + w1 * x1 + b =0 =>  x1 = - w0 * x0 / w1 - b/w1 \n",
    "\n",
    "dec_boundary = [-(w_lin_svm[0] * x + b_lin_svm)/w_lin_svm[1] for x in x0_linspace]\n",
    "\n",
    "modified_x0_linspace= np.linspace(-0.5, 1.6 ,10**2)\n",
    "modified_dec_boundary = [-(w_lin_svm[0] * x + b_lin_svm)/w_lin_svm[1] for x in modified_x0_linspace]"
   ]
  },
  {
   "cell_type": "markdown",
   "metadata": {},
   "source": [
    "# SGDClassifier "
   ]
  },
  {
   "cell_type": "code",
   "execution_count": 116,
   "metadata": {},
   "outputs": [],
   "source": [
    "sgd_clf=SGDClassifier(max_iter=5000, tol=1e-4,penalty='elasticnet')"
   ]
  },
  {
   "cell_type": "code",
   "execution_count": 117,
   "metadata": {},
   "outputs": [
    {
     "name": "stdout",
     "output_type": "stream",
     "text": [
      "Fitting 5 folds for each of 30 candidates, totalling 150 fits\n",
      "[CV] alpha=1e-06, l1_ratio=0 .........................................\n",
      "[CV] .......................... alpha=1e-06, l1_ratio=0, total=   0.0s\n",
      "[CV] alpha=1e-06, l1_ratio=0 .........................................\n",
      "[CV] .......................... alpha=1e-06, l1_ratio=0, total=   0.0s\n",
      "[CV] alpha=1e-06, l1_ratio=0 .........................................\n",
      "[CV] .......................... alpha=1e-06, l1_ratio=0, total=   0.0s\n",
      "[CV] alpha=1e-06, l1_ratio=0 .........................................\n",
      "[CV] .......................... alpha=1e-06, l1_ratio=0, total=   0.0s\n",
      "[CV] alpha=1e-06, l1_ratio=0 .........................................\n",
      "[CV] .......................... alpha=1e-06, l1_ratio=0, total=   0.0s\n",
      "[CV] alpha=1e-06, l1_ratio=0.2 .......................................\n",
      "[CV] ........................ alpha=1e-06, l1_ratio=0.2, total=   0.0s\n",
      "[CV] alpha=1e-06, l1_ratio=0.2 .......................................\n",
      "[CV] ........................ alpha=1e-06, l1_ratio=0.2, total=   0.0s\n",
      "[CV] alpha=1e-06, l1_ratio=0.2 .......................................\n",
      "[CV] ........................ alpha=1e-06, l1_ratio=0.2, total=   0.0s\n",
      "[CV] alpha=1e-06, l1_ratio=0.2 .......................................\n",
      "[CV] ........................ alpha=1e-06, l1_ratio=0.2, total=   0.0s\n",
      "[CV] alpha=1e-06, l1_ratio=0.2 .......................................\n",
      "[CV] ........................ alpha=1e-06, l1_ratio=0.2, total=   0.0s\n",
      "[CV] alpha=1e-06, l1_ratio=0.4 .......................................\n",
      "[CV] ........................ alpha=1e-06, l1_ratio=0.4, total=   0.0s\n",
      "[CV] alpha=1e-06, l1_ratio=0.4 .......................................\n",
      "[CV] ........................ alpha=1e-06, l1_ratio=0.4, total=   0.0s\n",
      "[CV] alpha=1e-06, l1_ratio=0.4 .......................................\n",
      "[CV] ........................ alpha=1e-06, l1_ratio=0.4, total=   0.0s\n",
      "[CV] alpha=1e-06, l1_ratio=0.4 .......................................\n",
      "[CV] ........................ alpha=1e-06, l1_ratio=0.4, total=   0.0s\n",
      "[CV] alpha=1e-06, l1_ratio=0.4 .......................................\n",
      "[CV] ........................ alpha=1e-06, l1_ratio=0.4, total=   0.0s\n",
      "[CV] alpha=1e-06, l1_ratio=0.6 .......................................\n",
      "[CV] ........................ alpha=1e-06, l1_ratio=0.6, total=   0.0s\n",
      "[CV] alpha=1e-06, l1_ratio=0.6 .......................................\n",
      "[CV] ........................ alpha=1e-06, l1_ratio=0.6, total=   0.0s\n",
      "[CV] alpha=1e-06, l1_ratio=0.6 .......................................\n",
      "[CV] ........................ alpha=1e-06, l1_ratio=0.6, total=   0.0s\n",
      "[CV] alpha=1e-06, l1_ratio=0.6 .......................................\n",
      "[CV] ........................ alpha=1e-06, l1_ratio=0.6, total=   0.0s\n",
      "[CV] alpha=1e-06, l1_ratio=0.6 .......................................\n",
      "[CV] ........................ alpha=1e-06, l1_ratio=0.6, total=   0.0s\n",
      "[CV] alpha=1e-06, l1_ratio=0.8 .......................................\n",
      "[CV] ........................ alpha=1e-06, l1_ratio=0.8, total=   0.0s\n",
      "[CV] alpha=1e-06, l1_ratio=0.8 .......................................\n",
      "[CV] ........................ alpha=1e-06, l1_ratio=0.8, total=   0.0s\n",
      "[CV] alpha=1e-06, l1_ratio=0.8 .......................................\n",
      "[CV] ........................ alpha=1e-06, l1_ratio=0.8, total=   0.0s\n",
      "[CV] alpha=1e-06, l1_ratio=0.8 .......................................\n",
      "[CV] ........................ alpha=1e-06, l1_ratio=0.8, total=   0.0s\n",
      "[CV] alpha=1e-06, l1_ratio=0.8 .......................................\n",
      "[CV] ........................ alpha=1e-06, l1_ratio=0.8, total=   0.0s\n",
      "[CV] alpha=1e-06, l1_ratio=1 .........................................\n",
      "[CV] .......................... alpha=1e-06, l1_ratio=1, total=   0.0s\n",
      "[CV] alpha=1e-06, l1_ratio=1 .........................................\n",
      "[CV] .......................... alpha=1e-06, l1_ratio=1, total=   0.0s\n",
      "[CV] alpha=1e-06, l1_ratio=1 .........................................\n",
      "[CV] .......................... alpha=1e-06, l1_ratio=1, total=   0.0s\n",
      "[CV] alpha=1e-06, l1_ratio=1 .........................................\n",
      "[CV] .......................... alpha=1e-06, l1_ratio=1, total=   0.0s\n",
      "[CV] alpha=1e-06, l1_ratio=1 .........................................\n",
      "[CV] .......................... alpha=1e-06, l1_ratio=1, total=   0.0s\n",
      "[CV] alpha=0.0001, l1_ratio=0 ........................................\n",
      "[CV] ......................... alpha=0.0001, l1_ratio=0, total=   0.0s\n",
      "[CV] alpha=0.0001, l1_ratio=0 ........................................\n",
      "[CV] ......................... alpha=0.0001, l1_ratio=0, total=   0.0s\n",
      "[CV] alpha=0.0001, l1_ratio=0 ........................................\n",
      "[CV] ......................... alpha=0.0001, l1_ratio=0, total=   0.0s\n",
      "[CV] alpha=0.0001, l1_ratio=0 ........................................\n",
      "[CV] ......................... alpha=0.0001, l1_ratio=0, total=   0.0s\n",
      "[CV] alpha=0.0001, l1_ratio=0 ........................................\n",
      "[CV] ......................... alpha=0.0001, l1_ratio=0, total=   0.0s\n",
      "[CV] alpha=0.0001, l1_ratio=0.2 ......................................\n",
      "[CV] ....................... alpha=0.0001, l1_ratio=0.2, total=   0.0s\n",
      "[CV] alpha=0.0001, l1_ratio=0.2 ......................................\n",
      "[CV] ....................... alpha=0.0001, l1_ratio=0.2, total=   0.0s\n",
      "[CV] alpha=0.0001, l1_ratio=0.2 ......................................\n",
      "[CV] ....................... alpha=0.0001, l1_ratio=0.2, total=   0.0s\n",
      "[CV] alpha=0.0001, l1_ratio=0.2 ......................................\n",
      "[CV] ....................... alpha=0.0001, l1_ratio=0.2, total=   0.0s\n",
      "[CV] alpha=0.0001, l1_ratio=0.2 ......................................\n",
      "[CV] ....................... alpha=0.0001, l1_ratio=0.2, total=   0.0s\n",
      "[CV] alpha=0.0001, l1_ratio=0.4 ......................................\n",
      "[CV] ....................... alpha=0.0001, l1_ratio=0.4, total=   0.0s\n",
      "[CV] alpha=0.0001, l1_ratio=0.4 ......................................\n",
      "[CV] ....................... alpha=0.0001, l1_ratio=0.4, total=   0.0s\n",
      "[CV] alpha=0.0001, l1_ratio=0.4 ......................................\n",
      "[CV] ....................... alpha=0.0001, l1_ratio=0.4, total=   0.0s\n",
      "[CV] alpha=0.0001, l1_ratio=0.4 ......................................\n",
      "[CV] ....................... alpha=0.0001, l1_ratio=0.4, total=   0.0s\n",
      "[CV] alpha=0.0001, l1_ratio=0.4 ......................................\n",
      "[CV] ....................... alpha=0.0001, l1_ratio=0.4, total=   0.0s\n",
      "[CV] alpha=0.0001, l1_ratio=0.6 ......................................\n",
      "[CV] ....................... alpha=0.0001, l1_ratio=0.6, total=   0.0s\n",
      "[CV] alpha=0.0001, l1_ratio=0.6 ......................................\n",
      "[CV] ....................... alpha=0.0001, l1_ratio=0.6, total=   0.0s\n",
      "[CV] alpha=0.0001, l1_ratio=0.6 ......................................\n",
      "[CV] ....................... alpha=0.0001, l1_ratio=0.6, total=   0.0s\n",
      "[CV] alpha=0.0001, l1_ratio=0.6 ......................................\n",
      "[CV] ....................... alpha=0.0001, l1_ratio=0.6, total=   0.0s\n",
      "[CV] alpha=0.0001, l1_ratio=0.6 ......................................\n",
      "[CV] ....................... alpha=0.0001, l1_ratio=0.6, total=   0.0s\n",
      "[CV] alpha=0.0001, l1_ratio=0.8 ......................................\n",
      "[CV] ....................... alpha=0.0001, l1_ratio=0.8, total=   0.0s\n",
      "[CV] alpha=0.0001, l1_ratio=0.8 ......................................\n",
      "[CV] ....................... alpha=0.0001, l1_ratio=0.8, total=   0.0s\n",
      "[CV] alpha=0.0001, l1_ratio=0.8 ......................................\n",
      "[CV] ....................... alpha=0.0001, l1_ratio=0.8, total=   0.0s\n",
      "[CV] alpha=0.0001, l1_ratio=0.8 ......................................\n",
      "[CV] ....................... alpha=0.0001, l1_ratio=0.8, total=   0.0s\n",
      "[CV] alpha=0.0001, l1_ratio=0.8 ......................................\n",
      "[CV] ....................... alpha=0.0001, l1_ratio=0.8, total=   0.0s\n",
      "[CV] alpha=0.0001, l1_ratio=1 ........................................\n",
      "[CV] ......................... alpha=0.0001, l1_ratio=1, total=   0.0s\n",
      "[CV] alpha=0.0001, l1_ratio=1 ........................................\n",
      "[CV] ......................... alpha=0.0001, l1_ratio=1, total=   0.0s\n",
      "[CV] alpha=0.0001, l1_ratio=1 ........................................\n",
      "[CV] ......................... alpha=0.0001, l1_ratio=1, total=   0.0s\n",
      "[CV] alpha=0.0001, l1_ratio=1 ........................................\n",
      "[CV] ......................... alpha=0.0001, l1_ratio=1, total=   0.0s\n",
      "[CV] alpha=0.0001, l1_ratio=1 ........................................\n",
      "[CV] ......................... alpha=0.0001, l1_ratio=1, total=   0.0s\n",
      "[CV] alpha=0.001, l1_ratio=0 .........................................\n",
      "[CV] .......................... alpha=0.001, l1_ratio=0, total=   0.0s\n",
      "[CV] alpha=0.001, l1_ratio=0 .........................................\n",
      "[CV] .......................... alpha=0.001, l1_ratio=0, total=   0.0s\n",
      "[CV] alpha=0.001, l1_ratio=0 .........................................\n",
      "[CV] .......................... alpha=0.001, l1_ratio=0, total=   0.0s\n",
      "[CV] alpha=0.001, l1_ratio=0 .........................................\n",
      "[CV] .......................... alpha=0.001, l1_ratio=0, total=   0.0s\n",
      "[CV] alpha=0.001, l1_ratio=0 .........................................\n",
      "[CV] .......................... alpha=0.001, l1_ratio=0, total=   0.0s\n",
      "[CV] alpha=0.001, l1_ratio=0.2 .......................................\n",
      "[CV] ........................ alpha=0.001, l1_ratio=0.2, total=   0.0s\n",
      "[CV] alpha=0.001, l1_ratio=0.2 .......................................\n",
      "[CV] ........................ alpha=0.001, l1_ratio=0.2, total=   0.0s\n",
      "[CV] alpha=0.001, l1_ratio=0.2 .......................................\n",
      "[CV] ........................ alpha=0.001, l1_ratio=0.2, total=   0.0s\n",
      "[CV] alpha=0.001, l1_ratio=0.2 .......................................\n",
      "[CV] ........................ alpha=0.001, l1_ratio=0.2, total=   0.0s\n",
      "[CV] alpha=0.001, l1_ratio=0.2 .......................................\n",
      "[CV] ........................ alpha=0.001, l1_ratio=0.2, total=   0.0s\n",
      "[CV] alpha=0.001, l1_ratio=0.4 .......................................\n",
      "[CV] ........................ alpha=0.001, l1_ratio=0.4, total=   0.0s\n",
      "[CV] alpha=0.001, l1_ratio=0.4 .......................................\n",
      "[CV] ........................ alpha=0.001, l1_ratio=0.4, total=   0.0s\n",
      "[CV] alpha=0.001, l1_ratio=0.4 .......................................\n",
      "[CV] ........................ alpha=0.001, l1_ratio=0.4, total=   0.0s\n",
      "[CV] alpha=0.001, l1_ratio=0.4 .......................................\n",
      "[CV] ........................ alpha=0.001, l1_ratio=0.4, total=   0.0s\n",
      "[CV] alpha=0.001, l1_ratio=0.4 .......................................\n",
      "[CV] ........................ alpha=0.001, l1_ratio=0.4, total=   0.0s\n",
      "[CV] alpha=0.001, l1_ratio=0.6 .......................................\n",
      "[CV] ........................ alpha=0.001, l1_ratio=0.6, total=   0.0s\n",
      "[CV] alpha=0.001, l1_ratio=0.6 .......................................\n",
      "[CV] ........................ alpha=0.001, l1_ratio=0.6, total=   0.0s\n",
      "[CV] alpha=0.001, l1_ratio=0.6 .......................................\n",
      "[CV] ........................ alpha=0.001, l1_ratio=0.6, total=   0.0s\n",
      "[CV] alpha=0.001, l1_ratio=0.6 .......................................\n",
      "[CV] ........................ alpha=0.001, l1_ratio=0.6, total=   0.0s\n",
      "[CV] alpha=0.001, l1_ratio=0.6 .......................................\n",
      "[CV] ........................ alpha=0.001, l1_ratio=0.6, total=   0.0s\n",
      "[CV] alpha=0.001, l1_ratio=0.8 .......................................\n",
      "[CV] ........................ alpha=0.001, l1_ratio=0.8, total=   0.0s\n",
      "[CV] alpha=0.001, l1_ratio=0.8 .......................................\n",
      "[CV] ........................ alpha=0.001, l1_ratio=0.8, total=   0.0s\n",
      "[CV] alpha=0.001, l1_ratio=0.8 .......................................\n",
      "[CV] ........................ alpha=0.001, l1_ratio=0.8, total=   0.0s\n",
      "[CV] alpha=0.001, l1_ratio=0.8 .......................................\n",
      "[CV] ........................ alpha=0.001, l1_ratio=0.8, total=   0.0s\n",
      "[CV] alpha=0.001, l1_ratio=0.8 .......................................\n",
      "[CV] ........................ alpha=0.001, l1_ratio=0.8, total=   0.0s\n",
      "[CV] alpha=0.001, l1_ratio=1 .........................................\n",
      "[CV] .......................... alpha=0.001, l1_ratio=1, total=   0.0s\n",
      "[CV] alpha=0.001, l1_ratio=1 .........................................\n",
      "[CV] .......................... alpha=0.001, l1_ratio=1, total=   0.0s\n",
      "[CV] alpha=0.001, l1_ratio=1 .........................................\n",
      "[CV] .......................... alpha=0.001, l1_ratio=1, total=   0.0s\n",
      "[CV] alpha=0.001, l1_ratio=1 .........................................\n",
      "[CV] .......................... alpha=0.001, l1_ratio=1, total=   0.0s\n",
      "[CV] alpha=0.001, l1_ratio=1 .........................................\n",
      "[CV] .......................... alpha=0.001, l1_ratio=1, total=   0.0s\n",
      "[CV] alpha=0.01, l1_ratio=0 ..........................................\n",
      "[CV] ........................... alpha=0.01, l1_ratio=0, total=   0.0s\n",
      "[CV] alpha=0.01, l1_ratio=0 ..........................................\n",
      "[CV] ........................... alpha=0.01, l1_ratio=0, total=   0.0s\n",
      "[CV] alpha=0.01, l1_ratio=0 ..........................................\n",
      "[CV] ........................... alpha=0.01, l1_ratio=0, total=   0.0s\n",
      "[CV] alpha=0.01, l1_ratio=0 ..........................................\n",
      "[CV] ........................... alpha=0.01, l1_ratio=0, total=   0.0s\n",
      "[CV] alpha=0.01, l1_ratio=0 ..........................................\n",
      "[CV] ........................... alpha=0.01, l1_ratio=0, total=   0.0s\n",
      "[CV] alpha=0.01, l1_ratio=0.2 ........................................\n",
      "[CV] ......................... alpha=0.01, l1_ratio=0.2, total=   0.0s\n",
      "[CV] alpha=0.01, l1_ratio=0.2 ........................................\n",
      "[CV] ......................... alpha=0.01, l1_ratio=0.2, total=   0.0s\n",
      "[CV] alpha=0.01, l1_ratio=0.2 ........................................\n",
      "[CV] ......................... alpha=0.01, l1_ratio=0.2, total=   0.0s\n",
      "[CV] alpha=0.01, l1_ratio=0.2 ........................................\n",
      "[CV] ......................... alpha=0.01, l1_ratio=0.2, total=   0.0s\n",
      "[CV] alpha=0.01, l1_ratio=0.2 ........................................\n",
      "[CV] ......................... alpha=0.01, l1_ratio=0.2, total=   0.0s\n",
      "[CV] alpha=0.01, l1_ratio=0.4 ........................................\n",
      "[CV] ......................... alpha=0.01, l1_ratio=0.4, total=   0.0s\n",
      "[CV] alpha=0.01, l1_ratio=0.4 ........................................\n",
      "[CV] ......................... alpha=0.01, l1_ratio=0.4, total=   0.0s\n",
      "[CV] alpha=0.01, l1_ratio=0.4 ........................................\n",
      "[CV] ......................... alpha=0.01, l1_ratio=0.4, total=   0.0s\n",
      "[CV] alpha=0.01, l1_ratio=0.4 ........................................\n",
      "[CV] ......................... alpha=0.01, l1_ratio=0.4, total=   0.0s\n",
      "[CV] alpha=0.01, l1_ratio=0.4 ........................................\n",
      "[CV] ......................... alpha=0.01, l1_ratio=0.4, total=   0.0s\n",
      "[CV] alpha=0.01, l1_ratio=0.6 ........................................\n",
      "[CV] ......................... alpha=0.01, l1_ratio=0.6, total=   0.0s\n",
      "[CV] alpha=0.01, l1_ratio=0.6 ........................................\n",
      "[CV] ......................... alpha=0.01, l1_ratio=0.6, total=   0.0s\n",
      "[CV] alpha=0.01, l1_ratio=0.6 ........................................\n",
      "[CV] ......................... alpha=0.01, l1_ratio=0.6, total=   0.0s\n",
      "[CV] alpha=0.01, l1_ratio=0.6 ........................................\n",
      "[CV] ......................... alpha=0.01, l1_ratio=0.6, total=   0.0s\n",
      "[CV] alpha=0.01, l1_ratio=0.6 ........................................\n",
      "[CV] ......................... alpha=0.01, l1_ratio=0.6, total=   0.0s\n",
      "[CV] alpha=0.01, l1_ratio=0.8 ........................................\n",
      "[CV] ......................... alpha=0.01, l1_ratio=0.8, total=   0.0s\n",
      "[CV] alpha=0.01, l1_ratio=0.8 ........................................\n",
      "[CV] ......................... alpha=0.01, l1_ratio=0.8, total=   0.0s\n",
      "[CV] alpha=0.01, l1_ratio=0.8 ........................................\n",
      "[CV] ......................... alpha=0.01, l1_ratio=0.8, total=   0.0s\n",
      "[CV] alpha=0.01, l1_ratio=0.8 ........................................\n",
      "[CV] ......................... alpha=0.01, l1_ratio=0.8, total=   0.0s\n",
      "[CV] alpha=0.01, l1_ratio=0.8 ........................................\n",
      "[CV] ......................... alpha=0.01, l1_ratio=0.8, total=   0.0s\n",
      "[CV] alpha=0.01, l1_ratio=1 ..........................................\n",
      "[CV] ........................... alpha=0.01, l1_ratio=1, total=   0.0s\n",
      "[CV] alpha=0.01, l1_ratio=1 ..........................................\n",
      "[CV] ........................... alpha=0.01, l1_ratio=1, total=   0.0s\n",
      "[CV] alpha=0.01, l1_ratio=1 ..........................................\n",
      "[CV] ........................... alpha=0.01, l1_ratio=1, total=   0.0s\n",
      "[CV] alpha=0.01, l1_ratio=1 ..........................................\n",
      "[CV] ........................... alpha=0.01, l1_ratio=1, total=   0.0s\n",
      "[CV] alpha=0.01, l1_ratio=1 ..........................................\n",
      "[CV] ........................... alpha=0.01, l1_ratio=1, total=   0.0s\n",
      "[CV] alpha=1, l1_ratio=0 .............................................\n",
      "[CV] .............................. alpha=1, l1_ratio=0, total=   0.0s\n",
      "[CV] alpha=1, l1_ratio=0 .............................................\n",
      "[CV] .............................. alpha=1, l1_ratio=0, total=   0.0s\n",
      "[CV] alpha=1, l1_ratio=0 .............................................\n",
      "[CV] .............................. alpha=1, l1_ratio=0, total=   0.0s\n",
      "[CV] alpha=1, l1_ratio=0 .............................................\n",
      "[CV] .............................. alpha=1, l1_ratio=0, total=   0.0s\n",
      "[CV] alpha=1, l1_ratio=0 .............................................\n",
      "[CV] .............................. alpha=1, l1_ratio=0, total=   0.0s\n",
      "[CV] alpha=1, l1_ratio=0.2 ...........................................\n",
      "[CV] ............................ alpha=1, l1_ratio=0.2, total=   0.0s\n",
      "[CV] alpha=1, l1_ratio=0.2 ...........................................\n",
      "[CV] ............................ alpha=1, l1_ratio=0.2, total=   0.0s\n",
      "[CV] alpha=1, l1_ratio=0.2 ...........................................\n",
      "[CV] ............................ alpha=1, l1_ratio=0.2, total=   0.0s\n",
      "[CV] alpha=1, l1_ratio=0.2 ...........................................\n",
      "[CV] ............................ alpha=1, l1_ratio=0.2, total=   0.0s\n",
      "[CV] alpha=1, l1_ratio=0.2 ...........................................\n",
      "[CV] ............................ alpha=1, l1_ratio=0.2, total=   0.0s\n",
      "[CV] alpha=1, l1_ratio=0.4 ...........................................\n",
      "[CV] ............................ alpha=1, l1_ratio=0.4, total=   0.0s\n",
      "[CV] alpha=1, l1_ratio=0.4 ...........................................\n",
      "[CV] ............................ alpha=1, l1_ratio=0.4, total=   0.0s\n",
      "[CV] alpha=1, l1_ratio=0.4 ...........................................\n",
      "[CV] ............................ alpha=1, l1_ratio=0.4, total=   0.0s\n",
      "[CV] alpha=1, l1_ratio=0.4 ...........................................\n",
      "[CV] ............................ alpha=1, l1_ratio=0.4, total=   0.0s\n",
      "[CV] alpha=1, l1_ratio=0.4 ...........................................\n",
      "[CV] ............................ alpha=1, l1_ratio=0.4, total=   0.0s\n",
      "[CV] alpha=1, l1_ratio=0.6 ...........................................\n",
      "[CV] ............................ alpha=1, l1_ratio=0.6, total=   0.0s\n",
      "[CV] alpha=1, l1_ratio=0.6 ...........................................\n",
      "[CV] ............................ alpha=1, l1_ratio=0.6, total=   0.0s\n",
      "[CV] alpha=1, l1_ratio=0.6 ...........................................\n",
      "[CV] ............................ alpha=1, l1_ratio=0.6, total=   0.0s\n",
      "[CV] alpha=1, l1_ratio=0.6 ...........................................\n",
      "[CV] ............................ alpha=1, l1_ratio=0.6, total=   0.0s\n",
      "[CV] alpha=1, l1_ratio=0.6 ...........................................\n",
      "[CV] ............................ alpha=1, l1_ratio=0.6, total=   0.0s\n",
      "[CV] alpha=1, l1_ratio=0.8 ...........................................\n",
      "[CV] ............................ alpha=1, l1_ratio=0.8, total=   0.0s\n",
      "[CV] alpha=1, l1_ratio=0.8 ...........................................\n",
      "[CV] ............................ alpha=1, l1_ratio=0.8, total=   0.0s\n",
      "[CV] alpha=1, l1_ratio=0.8 ...........................................\n",
      "[CV] ............................ alpha=1, l1_ratio=0.8, total=   0.0s\n",
      "[CV] alpha=1, l1_ratio=0.8 ...........................................\n",
      "[CV] ............................ alpha=1, l1_ratio=0.8, total=   0.0s\n",
      "[CV] alpha=1, l1_ratio=0.8 ...........................................\n",
      "[CV] ............................ alpha=1, l1_ratio=0.8, total=   0.0s\n",
      "[CV] alpha=1, l1_ratio=1 .............................................\n",
      "[CV] .............................. alpha=1, l1_ratio=1, total=   0.0s\n",
      "[CV] alpha=1, l1_ratio=1 .............................................\n",
      "[CV] .............................. alpha=1, l1_ratio=1, total=   0.0s\n",
      "[CV] alpha=1, l1_ratio=1 .............................................\n",
      "[CV] .............................. alpha=1, l1_ratio=1, total=   0.0s\n",
      "[CV] alpha=1, l1_ratio=1 .............................................\n",
      "[CV] .............................. alpha=1, l1_ratio=1, total=   0.0s\n",
      "[CV] alpha=1, l1_ratio=1 .............................................\n",
      "[CV] .............................. alpha=1, l1_ratio=1, total=   0.0s\n"
     ]
    },
    {
     "name": "stderr",
     "output_type": "stream",
     "text": [
      "[Parallel(n_jobs=1)]: Using backend SequentialBackend with 1 concurrent workers.\n",
      "[Parallel(n_jobs=1)]: Done   1 out of   1 | elapsed:    0.0s remaining:    0.0s\n",
      "[Parallel(n_jobs=1)]: Done 150 out of 150 | elapsed:    0.2s finished\n"
     ]
    },
    {
     "data": {
      "text/plain": [
       "GridSearchCV(cv=5,\n",
       "             estimator=SGDClassifier(max_iter=5000, penalty='elasticnet',\n",
       "                                     tol=0.0001),\n",
       "             param_grid=[{'alpha': [1e-06, 0.0001, 0.001, 0.01, 1],\n",
       "                          'l1_ratio': [0, 0.2, 0.4, 0.6, 0.8, 1]}],\n",
       "             scoring='accuracy', verbose=2)"
      ]
     },
     "execution_count": 117,
     "metadata": {},
     "output_type": "execute_result"
    }
   ],
   "source": [
    "sgd_parm_grid_search=[{'alpha':[1e-6,1e-4,1e-3,1e-2,1],'l1_ratio':[0,0.2,0.4,0.6,0.8,1]}]\n",
    "\n",
    "sgd_grid_search=GridSearchCV(sgd_clf,sgd_parm_grid_search,cv=5,scoring='accuracy',verbose=2)\n",
    "\n",
    "sgd_grid_search.fit(X_train,y_train)"
   ]
  },
  {
   "cell_type": "code",
   "execution_count": 118,
   "metadata": {},
   "outputs": [
    {
     "name": "stdout",
     "output_type": "stream",
     "text": [
      "0.9583333333333334 {'alpha': 1e-06, 'l1_ratio': 0}\n",
      "0.9583333333333334 {'alpha': 1e-06, 'l1_ratio': 0.2}\n",
      "0.925 {'alpha': 1e-06, 'l1_ratio': 0.4}\n",
      "0.925 {'alpha': 1e-06, 'l1_ratio': 0.6}\n",
      "0.9083333333333334 {'alpha': 1e-06, 'l1_ratio': 0.8}\n",
      "0.9333333333333333 {'alpha': 1e-06, 'l1_ratio': 1}\n",
      "0.9583333333333334 {'alpha': 0.0001, 'l1_ratio': 0}\n",
      "0.9583333333333334 {'alpha': 0.0001, 'l1_ratio': 0.2}\n",
      "0.9333333333333333 {'alpha': 0.0001, 'l1_ratio': 0.4}\n",
      "0.9166666666666666 {'alpha': 0.0001, 'l1_ratio': 0.6}\n",
      "0.9333333333333333 {'alpha': 0.0001, 'l1_ratio': 0.8}\n",
      "0.95 {'alpha': 0.0001, 'l1_ratio': 1}\n",
      "0.9416666666666667 {'alpha': 0.001, 'l1_ratio': 0}\n",
      "0.925 {'alpha': 0.001, 'l1_ratio': 0.2}\n",
      "0.95 {'alpha': 0.001, 'l1_ratio': 0.4}\n",
      "0.9583333333333334 {'alpha': 0.001, 'l1_ratio': 0.6}\n",
      "0.95 {'alpha': 0.001, 'l1_ratio': 0.8}\n",
      "0.95 {'alpha': 0.001, 'l1_ratio': 1}\n",
      "0.9416666666666667 {'alpha': 0.01, 'l1_ratio': 0}\n",
      "0.95 {'alpha': 0.01, 'l1_ratio': 0.2}\n",
      "0.9416666666666667 {'alpha': 0.01, 'l1_ratio': 0.4}\n",
      "0.9416666666666667 {'alpha': 0.01, 'l1_ratio': 0.6}\n",
      "0.9416666666666667 {'alpha': 0.01, 'l1_ratio': 0.8}\n",
      "0.9416666666666667 {'alpha': 0.01, 'l1_ratio': 1}\n",
      "0.7583333333333333 {'alpha': 1, 'l1_ratio': 0}\n",
      "0.7 {'alpha': 1, 'l1_ratio': 0.2}\n",
      "0.6749999999999999 {'alpha': 1, 'l1_ratio': 0.4}\n",
      "0.6749999999999999 {'alpha': 1, 'l1_ratio': 0.6}\n",
      "0.6749999999999999 {'alpha': 1, 'l1_ratio': 0.8}\n",
      "0.6749999999999999 {'alpha': 1, 'l1_ratio': 1}\n"
     ]
    }
   ],
   "source": [
    "cv_res=sgd_grid_search.cv_results_\n",
    "for acc,params in zip(cv_res[\"mean_test_score\"],cv_res[\"params\"]):\n",
    "    print(acc,params)"
   ]
  },
  {
   "cell_type": "code",
   "execution_count": 119,
   "metadata": {},
   "outputs": [
    {
     "data": {
      "text/plain": [
       "{'alpha': 1e-06, 'l1_ratio': 0}"
      ]
     },
     "execution_count": 119,
     "metadata": {},
     "output_type": "execute_result"
    }
   ],
   "source": [
    "sgd_grid_search.best_params_"
   ]
  },
  {
   "cell_type": "code",
   "execution_count": 120,
   "metadata": {},
   "outputs": [],
   "source": [
    "final_sgd_clf=sgd_grid_search.best_estimator_"
   ]
  },
  {
   "cell_type": "code",
   "execution_count": 121,
   "metadata": {},
   "outputs": [
    {
     "data": {
      "text/plain": [
       "1.0"
      ]
     },
     "execution_count": 121,
     "metadata": {},
     "output_type": "execute_result"
    }
   ],
   "source": [
    "sgd_predict=final_sgd_clf.predict(X_test)\n",
    "np.mean(sgd_predict==y_test)"
   ]
  },
  {
   "cell_type": "code",
   "execution_count": 122,
   "metadata": {},
   "outputs": [],
   "source": [
    "w_sgd = final_sgd_clf.coef_[0]\n",
    "b_sgd = final_sgd_clf.intercept_[0]\n",
    "\n",
    "\n",
    "sgd_dec_boundary = [-(w_sgd[0] * x + b_sgd)/w_sgd[1] for x in modified_x0_linspace]"
   ]
  },
  {
   "cell_type": "code",
   "execution_count": 125,
   "metadata": {},
   "outputs": [
    {
     "data": {
      "image/png": "[encoded data removed]",
      "text/plain": [
       "<Figure size 432x288 with 1 Axes>"
      ]
     },
     "metadata": {
      "needs_background": "light"
     },
     "output_type": "display_data"
    }
   ],
   "source": [
    "plt.plot(X_train[:,0][y_train==1],X_train[:,1][y_train==1],\"bo\",fillstyle=\"none\",label=\"train vir.\")\n",
    "plt.plot(X_train[:,0][y_train==0],X_train[:,1][y_train==0],\"r*\",fillstyle=\"none\",label=\"train oth.\")\n",
    "\n",
    "plt.plot(X_test[:,0][y_test==1],X_test[:,1][y_test==1],\"bs\",label=\"test vir.\")\n",
    "plt.plot(X_test[:,0][y_test==0],X_test[:,1][y_test==0],\"rp\",label=\"test oth.\")\n",
    "\n",
    "plt.plot(modified_x0_linspace,modified_dec_boundary,\"k--\")\n",
    "plt.plot(modified_x0_linspace,sgd_dec_boundary,\"c--\")\n",
    "\n",
    "plt.legend(loc=\"best\", fontsize=12)\n",
    "plt.show()"
   ]
  },
  {
   "cell_type": "code",
   "execution_count": null,
   "metadata": {},
   "outputs": [],
   "source": []
  }
 ],
 "metadata": {
  "kernelspec": {
   "display_name": "Python 3",
   "language": "python",
   "name": "python3"
  },
  "language_info": {
   "codemirror_mode": {
    "name": "ipython",
    "version": 3
   },
   "file_extension": ".py",
   "mimetype": "text/x-python",
   "name": "python",
   "nbconvert_exporter": "python",
   "pygments_lexer": "ipython3",
   "version": "3.10.9"
  }
 },
 "nbformat": 4,
 "nbformat_minor": 4
}
